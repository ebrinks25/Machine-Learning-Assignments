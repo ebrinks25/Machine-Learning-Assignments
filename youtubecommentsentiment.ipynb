{
 "cells": [
  {
   "cell_type": "code",
   "execution_count": 1,
   "metadata": {
    "collapsed": true,
    "pycharm": {
     "name": "#%%\n"
    }
   },
   "outputs": [],
   "source": [
    "from googleapiclient.discovery import build\n",
    "from vaderSentiment.vaderSentiment import SentimentIntensityAnalyzer\n",
    "from bs4 import BeautifulSoup\n",
    "import numpy as np\n",
    "import matplotlib.pyplot as plt"
   ]
  },
  {
   "cell_type": "code",
   "execution_count": 2,
   "metadata": {
    "pycharm": {
     "name": "#%%\n"
    }
   },
   "outputs": [],
   "source": [
    "# Video IDs to use\n",
    "#FwGeBW6OurM - John Hammond https://www.youtube.com/watch?v=FwGeBW6OurM\n",
    "#uHGShqcAHlQ - Legend of Zelda https://www.youtube.com/watch?v=uHGShqcAHlQ\n",
    "#eDaNejmf-1A - The Wrong Rock https://www.youtube.com/watch?v=eDaNejmf-1A - VERY POSITIVE\n",
    "#YbJOTdZBX1g - YouTube Rewind 2018 https://www.youtube.com/watch?v=YbJOTdZBX1g - NEUTRAL (probably due to sarcasm)\n",
    "#_GuOjXYl5ew - YouTube Rewind 2016 https://www.youtube.com/watch?v=_GuOjXYl5ew - POSITIVE"
   ]
  },
  {
   "cell_type": "code",
   "execution_count": 3,
   "metadata": {
    "pycharm": {
     "name": "#%%\n"
    }
   },
   "outputs": [],
   "source": [
    "# General variables\n",
    "api_key = '' #google api key\n",
    "sentiment = SentimentIntensityAnalyzer()\n",
    "video_id = \"eDaNejmf-1A\" #change this to the value after watch?v=       Example: https://www.youtube.com/watch?v=eDaNejmf-1A -> eDaNejmf-1A\n",
    "html_comments = []\n",
    "text_comments = []\n",
    "sentiment_list = []"
   ]
  },
  {
   "cell_type": "code",
   "execution_count": 4,
   "metadata": {
    "pycharm": {
     "name": "#%%\n"
    }
   },
   "outputs": [],
   "source": [
    "# Method that grabs video comments\n",
    "def video_comments(video_id):\n",
    "    # Creating YouTube resource object\n",
    "    youtube = build('youtube', 'v3', developerKey=api_key)\n",
    "\n",
    "    # Retrieve youtube video results\n",
    "    video_response=youtube.commentThreads().list(part='snippet', videoId=video_id, maxResults=100, order='relevance').execute()\n",
    "\n",
    "    # Iterate video response\n",
    "    items = video_response['items']\n",
    "\n",
    "    for i in items:\n",
    "        item_info = i['snippet']\n",
    "        topLevelComment = item_info['topLevelComment']\n",
    "        comment_info = topLevelComment['snippet']\n",
    "\n",
    "        text = comment_info['textDisplay']\n",
    "        if text in html_comments:\n",
    "            continue\n",
    "        else:\n",
    "            #foreign lang handling goes here\n",
    "            html_comments.append(text)\n",
    "\n",
    "# Call function\n",
    "video_comments(video_id)"
   ]
  },
  {
   "cell_type": "code",
   "execution_count": 5,
   "metadata": {
    "pycharm": {
     "name": "#%%\n"
    }
   },
   "outputs": [
    {
     "name": "stderr",
     "output_type": "stream",
     "text": [
      "C:\\Users\\ethan\\PycharmProjects\\EET4501\\venv\\lib\\site-packages\\bs4\\__init__.py:435: MarkupResemblesLocatorWarning: The input looks more like a filename than markup. You may want to open this file and pass the filehandle into Beautiful Soup.\n",
      "  warnings.warn(\n"
     ]
    }
   ],
   "source": [
    "# Take html and use Beautiful Soup to make it text\n",
    "for comment in html_comments:\n",
    "    soup = BeautifulSoup(comment)\n",
    "    text_comments.append(soup.get_text())"
   ]
  },
  {
   "cell_type": "code",
   "execution_count": 6,
   "metadata": {
    "pycharm": {
     "name": "#%%\n"
    }
   },
   "outputs": [],
   "source": [
    "# Takes the plaintext list of comments and does analysis on those\n",
    "for comment in text_comments:\n",
    "    vs = sentiment.polarity_scores(comment)\n",
    "    sentiment_list.append(vs)\n",
    "    #print(\"{:-<65} {}\".format(comment, str(vs)))"
   ]
  },
  {
   "cell_type": "code",
   "execution_count": 7,
   "metadata": {
    "pycharm": {
     "name": "#%%\n"
    }
   },
   "outputs": [
    {
     "name": "stdout",
     "output_type": "stream",
     "text": [
      "Average compound sentiment is 0.7175949999999998\n"
     ]
    }
   ],
   "source": [
    "# Determining average sentiment and making a compound sentiment list for graphing\n",
    "total_sentiment = 0\n",
    "compound_sentiment = []\n",
    "for i in sentiment_list:\n",
    "    compound_sentiment.append(i['compound'])\n",
    "    total_sentiment = total_sentiment + i['compound']\n",
    "\n",
    "avg_sentiment = total_sentiment/len(sentiment_list)\n",
    "print(f'Average compound sentiment is {avg_sentiment}')"
   ]
  },
  {
   "cell_type": "code",
   "execution_count": 8,
   "metadata": {
    "pycharm": {
     "name": "#%%\n"
    }
   },
   "outputs": [
    {
     "name": "stdout",
     "output_type": "stream",
     "text": [
      "Overall sentiment is POSITIVE\n"
     ]
    }
   ],
   "source": [
    "# Prints the overall sentiment based on the thresholds provided in the VADER docs\n",
    "if avg_sentiment >= 0.05:\n",
    "    print('Overall sentiment is POSITIVE')\n",
    "elif avg_sentiment <= -0.05:\n",
    "    print('Overall sentiment is NEGATIVE')\n",
    "else:\n",
    "    print('Overall sentiment is NEUTRAL')"
   ]
  },
  {
   "cell_type": "code",
   "execution_count": 9,
   "metadata": {
    "pycharm": {
     "name": "#%%\n"
    }
   },
   "outputs": [
    {
     "data": {
      "text/plain": "<Figure size 640x480 with 1 Axes>",
      "image/png": "[encoded data removed]"
     },
     "metadata": {},
     "output_type": "display_data"
    }
   ],
   "source": [
    "# Sort of heatmap to visualize the distribution of the compound sentiment values\n",
    "x = np.arange(len(compound_sentiment))\n",
    "y = compound_sentiment\n",
    "\n",
    "plt.scatter(x, y)\n",
    "plt.show()"
   ]
  },
  {
   "cell_type": "code",
   "execution_count": 10,
   "metadata": {
    "pycharm": {
     "name": "#%%\n"
    }
   },
   "outputs": [],
   "source": [
    "# NOTES\n",
    "# issue with \"unit cost\" which limits number of queries\n",
    "\n",
    "# TODO"
   ]
  },
  {
   "cell_type": "code",
   "execution_count": 11,
   "metadata": {
    "pycharm": {
     "name": "#%%\n"
    }
   },
   "outputs": [],
   "source": [
    "#references\n",
    "#https://github.com/cjhutto/vaderSentiment/blob/master/README.rst#code-examples\n",
    "#https://developers.google.com/youtube/v3/docs/comments\n",
    "#https://beautiful-soup-4.readthedocs.io/en/latest/\n",
    "#https://matplotlib.org/stable/plot_types/index.html\n",
    "#https://www.unite.ai/10-best-python-libraries-for-sentiment-analysis/"
   ]
  }
 ],
 "metadata": {
  "kernelspec": {
   "display_name": "Python 3 (ipykernel)",
   "language": "python",
   "name": "python3"
  },
  "language_info": {
   "codemirror_mode": {
    "name": "ipython",
    "version": 3
   },
   "file_extension": ".py",
   "mimetype": "text/x-python",
   "name": "python",
   "nbconvert_exporter": "python",
   "pygments_lexer": "ipython3",
   "version": "3.9.13"
  }
 },
 "nbformat": 4,
 "nbformat_minor": 1
}