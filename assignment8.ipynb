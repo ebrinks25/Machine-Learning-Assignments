{
 "cells": [
  {
   "cell_type": "code",
   "execution_count": 1,
   "metadata": {
    "collapsed": true,
    "pycharm": {
     "name": "#%%\n"
    }
   },
   "outputs": [],
   "source": [
    "import keras\n",
    "from sklearn.datasets import fetch_lfw_people\n",
    "from sklearn.preprocessing import MinMaxScaler\n",
    "from sklearn.model_selection import train_test_split\n",
    "from tensorflow.keras.models import Sequential\n",
    "from tensorflow.keras.layers import Dense\n",
    "import tensorflow as tf"
   ]
  },
  {
   "cell_type": "code",
   "execution_count": 2,
   "outputs": [],
   "source": [
    "#getting data\n",
    "lfw_people = fetch_lfw_people(min_faces_per_person=50, resize=0.5)\n",
    "X = lfw_people.data\n",
    "y = lfw_people.target"
   ],
   "metadata": {
    "collapsed": false,
    "pycharm": {
     "name": "#%%\n"
    }
   }
  },
  {
   "cell_type": "code",
   "execution_count": 3,
   "outputs": [],
   "source": [
    "#splitting the data\n",
    "X_train, X_test, y_train, y_test = train_test_split(X, y, test_size=0.3, random_state=42)"
   ],
   "metadata": {
    "collapsed": false,
    "pycharm": {
     "name": "#%%\n"
    }
   }
  },
  {
   "cell_type": "code",
   "execution_count": 4,
   "outputs": [],
   "source": [
    "## scale the data\n",
    "mms = MinMaxScaler()\n",
    "X_train_scaled = mms.fit_transform(X_train)\n",
    "X_test_scaled = mms.fit_transform(X_test)"
   ],
   "metadata": {
    "collapsed": false,
    "pycharm": {
     "name": "#%%\n"
    }
   }
  },
  {
   "cell_type": "code",
   "execution_count": 5,
   "outputs": [],
   "source": [
    "#dnn model definition\n",
    "dnn_model = keras.Sequential([\n",
    "    keras.layers.Dense(8, activation='relu', input_shape=[X_train.shape[1]]),\n",
    "    keras.layers.Dense(16, activation='relu'),\n",
    "    keras.layers.Dense(32, activation='relu'),\n",
    "    keras.layers.Dense(64, activation='relu'),\n",
    "    keras.layers.Dense(128, activation='relu'),\n",
    "    keras.layers.Dense(len(set(y_train)), activation='softmax')\n",
    "    ])"
   ],
   "metadata": {
    "collapsed": false,
    "pycharm": {
     "name": "#%%\n"
    }
   }
  },
  {
   "cell_type": "code",
   "execution_count": 6,
   "outputs": [
    {
     "name": "stdout",
     "output_type": "stream",
     "text": [
      "Epoch 1/100\n"
     ]
    },
    {
     "name": "stderr",
     "output_type": "stream",
     "text": [
      "C:\\Users\\ethan\\PycharmProjects\\EET4501\\venv\\lib\\site-packages\\keras\\optimizers\\legacy\\adam.py:117: UserWarning: The `lr` argument is deprecated, use `learning_rate` instead.\n",
      "  super().__init__(name, **kwargs)\n"
     ]
    },
    {
     "name": "stdout",
     "output_type": "stream",
     "text": [
      "22/22 [==============================] - 1s 12ms/step - loss: 2.0552 - accuracy: 0.3234 - val_loss: 1.9885 - val_accuracy: 0.3821\n",
      "Epoch 2/100\n",
      "22/22 [==============================] - 0s 3ms/step - loss: 1.9928 - accuracy: 0.3689 - val_loss: 1.8943 - val_accuracy: 0.3821\n",
      "Epoch 3/100\n",
      "22/22 [==============================] - 0s 3ms/step - loss: 1.9202 - accuracy: 0.3775 - val_loss: 1.8889 - val_accuracy: 0.4186\n",
      "Epoch 4/100\n",
      "22/22 [==============================] - 0s 2ms/step - loss: 1.8695 - accuracy: 0.3718 - val_loss: 1.8135 - val_accuracy: 0.4153\n",
      "Epoch 5/100\n",
      "22/22 [==============================] - 0s 2ms/step - loss: 1.7441 - accuracy: 0.4231 - val_loss: 1.6639 - val_accuracy: 0.4551\n",
      "Epoch 6/100\n",
      "22/22 [==============================] - 0s 2ms/step - loss: 1.6587 - accuracy: 0.4573 - val_loss: 1.8097 - val_accuracy: 0.4684\n",
      "Epoch 7/100\n",
      "22/22 [==============================] - 0s 2ms/step - loss: 1.6500 - accuracy: 0.4587 - val_loss: 1.5797 - val_accuracy: 0.4950\n",
      "Epoch 8/100\n",
      "22/22 [==============================] - 0s 2ms/step - loss: 1.5044 - accuracy: 0.4900 - val_loss: 1.4794 - val_accuracy: 0.5183\n",
      "Epoch 9/100\n",
      "22/22 [==============================] - 0s 2ms/step - loss: 1.4839 - accuracy: 0.4900 - val_loss: 1.5687 - val_accuracy: 0.4817\n",
      "Epoch 10/100\n",
      "22/22 [==============================] - 0s 2ms/step - loss: 1.4992 - accuracy: 0.4872 - val_loss: 1.5557 - val_accuracy: 0.4817\n",
      "Epoch 11/100\n",
      "22/22 [==============================] - 0s 2ms/step - loss: 1.4136 - accuracy: 0.5128 - val_loss: 1.5445 - val_accuracy: 0.4817\n",
      "Epoch 12/100\n",
      "22/22 [==============================] - 0s 2ms/step - loss: 1.4976 - accuracy: 0.4843 - val_loss: 1.7430 - val_accuracy: 0.4518\n",
      "Epoch 13/100\n",
      "22/22 [==============================] - 0s 2ms/step - loss: 1.4431 - accuracy: 0.5000 - val_loss: 1.3998 - val_accuracy: 0.5249\n",
      "Epoch 14/100\n",
      "22/22 [==============================] - 0s 2ms/step - loss: 1.2797 - accuracy: 0.5356 - val_loss: 1.5313 - val_accuracy: 0.4917\n",
      "Epoch 15/100\n",
      "22/22 [==============================] - 0s 2ms/step - loss: 1.3388 - accuracy: 0.5242 - val_loss: 1.3838 - val_accuracy: 0.5482\n",
      "Epoch 16/100\n",
      "22/22 [==============================] - 0s 2ms/step - loss: 1.2905 - accuracy: 0.5413 - val_loss: 1.5679 - val_accuracy: 0.5083\n",
      "Epoch 17/100\n",
      "22/22 [==============================] - 0s 2ms/step - loss: 1.2558 - accuracy: 0.5541 - val_loss: 1.4597 - val_accuracy: 0.5183\n",
      "Epoch 18/100\n",
      "22/22 [==============================] - 0s 2ms/step - loss: 1.1943 - accuracy: 0.5556 - val_loss: 1.3612 - val_accuracy: 0.5216\n",
      "Epoch 19/100\n",
      "22/22 [==============================] - 0s 2ms/step - loss: 1.2051 - accuracy: 0.5627 - val_loss: 1.7617 - val_accuracy: 0.4252\n",
      "Epoch 20/100\n",
      "22/22 [==============================] - 0s 2ms/step - loss: 1.2553 - accuracy: 0.5470 - val_loss: 1.3418 - val_accuracy: 0.5415\n",
      "Epoch 21/100\n",
      "22/22 [==============================] - 0s 2ms/step - loss: 1.1544 - accuracy: 0.5755 - val_loss: 1.8948 - val_accuracy: 0.4452\n",
      "Epoch 22/100\n",
      "22/22 [==============================] - 0s 2ms/step - loss: 1.3432 - accuracy: 0.5171 - val_loss: 1.3149 - val_accuracy: 0.5382\n",
      "Epoch 23/100\n",
      "22/22 [==============================] - 0s 3ms/step - loss: 1.1581 - accuracy: 0.5698 - val_loss: 1.4570 - val_accuracy: 0.4850\n",
      "Epoch 24/100\n",
      "22/22 [==============================] - 0s 3ms/step - loss: 1.2657 - accuracy: 0.5342 - val_loss: 1.4165 - val_accuracy: 0.5150\n",
      "Epoch 25/100\n",
      "22/22 [==============================] - 0s 2ms/step - loss: 1.2044 - accuracy: 0.5670 - val_loss: 1.3793 - val_accuracy: 0.5349\n",
      "Epoch 26/100\n",
      "22/22 [==============================] - 0s 2ms/step - loss: 1.1247 - accuracy: 0.5826 - val_loss: 1.6440 - val_accuracy: 0.4784\n",
      "Epoch 27/100\n",
      "22/22 [==============================] - 0s 2ms/step - loss: 1.1399 - accuracy: 0.5712 - val_loss: 1.2971 - val_accuracy: 0.5748\n",
      "Epoch 28/100\n",
      "22/22 [==============================] - 0s 2ms/step - loss: 1.2428 - accuracy: 0.5513 - val_loss: 1.7614 - val_accuracy: 0.3654\n",
      "Epoch 29/100\n",
      "22/22 [==============================] - 0s 2ms/step - loss: 1.2085 - accuracy: 0.5556 - val_loss: 1.4165 - val_accuracy: 0.5349\n",
      "Epoch 30/100\n",
      "22/22 [==============================] - 0s 2ms/step - loss: 1.0909 - accuracy: 0.5926 - val_loss: 1.3188 - val_accuracy: 0.5415\n",
      "Epoch 31/100\n",
      "22/22 [==============================] - 0s 2ms/step - loss: 1.0292 - accuracy: 0.6182 - val_loss: 1.4072 - val_accuracy: 0.5216\n",
      "Epoch 32/100\n",
      "22/22 [==============================] - 0s 2ms/step - loss: 1.0825 - accuracy: 0.6054 - val_loss: 1.4257 - val_accuracy: 0.5282\n",
      "Epoch 33/100\n",
      "22/22 [==============================] - 0s 2ms/step - loss: 1.0689 - accuracy: 0.6011 - val_loss: 1.4176 - val_accuracy: 0.5249\n",
      "Epoch 34/100\n",
      "22/22 [==============================] - 0s 2ms/step - loss: 1.0330 - accuracy: 0.6026 - val_loss: 1.3321 - val_accuracy: 0.5482\n",
      "Epoch 35/100\n",
      "22/22 [==============================] - 0s 2ms/step - loss: 0.9949 - accuracy: 0.6382 - val_loss: 1.7392 - val_accuracy: 0.4850\n",
      "Epoch 36/100\n",
      "22/22 [==============================] - 0s 2ms/step - loss: 1.0701 - accuracy: 0.6054 - val_loss: 1.3755 - val_accuracy: 0.5415\n",
      "Epoch 37/100\n",
      "22/22 [==============================] - 0s 2ms/step - loss: 1.0803 - accuracy: 0.5855 - val_loss: 1.3206 - val_accuracy: 0.5349\n",
      "Epoch 38/100\n",
      "22/22 [==============================] - 0s 2ms/step - loss: 0.9794 - accuracy: 0.6296 - val_loss: 1.2664 - val_accuracy: 0.5648\n",
      "Epoch 39/100\n",
      "22/22 [==============================] - 0s 2ms/step - loss: 1.0269 - accuracy: 0.6211 - val_loss: 1.4541 - val_accuracy: 0.4884\n",
      "Epoch 40/100\n",
      "22/22 [==============================] - 0s 2ms/step - loss: 1.1727 - accuracy: 0.5812 - val_loss: 1.4982 - val_accuracy: 0.5249\n",
      "Epoch 41/100\n",
      "22/22 [==============================] - 0s 2ms/step - loss: 0.9981 - accuracy: 0.6254 - val_loss: 1.3187 - val_accuracy: 0.5615\n",
      "Epoch 42/100\n",
      "22/22 [==============================] - 0s 2ms/step - loss: 1.0140 - accuracy: 0.6068 - val_loss: 1.2985 - val_accuracy: 0.5748\n",
      "Epoch 43/100\n",
      "22/22 [==============================] - 0s 2ms/step - loss: 0.9966 - accuracy: 0.6453 - val_loss: 1.4194 - val_accuracy: 0.5316\n",
      "Epoch 44/100\n",
      "22/22 [==============================] - 0s 2ms/step - loss: 0.9678 - accuracy: 0.6353 - val_loss: 1.5262 - val_accuracy: 0.5050\n",
      "Epoch 45/100\n",
      "22/22 [==============================] - 0s 2ms/step - loss: 0.9647 - accuracy: 0.6439 - val_loss: 1.6056 - val_accuracy: 0.4983\n",
      "Epoch 46/100\n",
      "22/22 [==============================] - 0s 2ms/step - loss: 1.2870 - accuracy: 0.5157 - val_loss: 1.5756 - val_accuracy: 0.5150\n",
      "Epoch 47/100\n",
      "22/22 [==============================] - 0s 2ms/step - loss: 1.0093 - accuracy: 0.6254 - val_loss: 1.3616 - val_accuracy: 0.5282\n",
      "Epoch 48/100\n",
      "22/22 [==============================] - 0s 2ms/step - loss: 1.0521 - accuracy: 0.6040 - val_loss: 1.5487 - val_accuracy: 0.4983\n",
      "Epoch 49/100\n",
      "22/22 [==============================] - 0s 2ms/step - loss: 1.0421 - accuracy: 0.6026 - val_loss: 1.2640 - val_accuracy: 0.5914\n",
      "Epoch 50/100\n",
      "22/22 [==============================] - 0s 2ms/step - loss: 0.9031 - accuracy: 0.6652 - val_loss: 1.3857 - val_accuracy: 0.5449\n",
      "Epoch 51/100\n",
      "22/22 [==============================] - 0s 2ms/step - loss: 0.8998 - accuracy: 0.6695 - val_loss: 1.4190 - val_accuracy: 0.5648\n",
      "Epoch 52/100\n",
      "22/22 [==============================] - 0s 2ms/step - loss: 0.9315 - accuracy: 0.6524 - val_loss: 1.4098 - val_accuracy: 0.5216\n",
      "Epoch 53/100\n",
      "22/22 [==============================] - 0s 2ms/step - loss: 0.8845 - accuracy: 0.6823 - val_loss: 1.3407 - val_accuracy: 0.5714\n",
      "Epoch 54/100\n",
      "22/22 [==============================] - 0s 2ms/step - loss: 0.8312 - accuracy: 0.6838 - val_loss: 1.4143 - val_accuracy: 0.5714\n",
      "Epoch 55/100\n",
      "22/22 [==============================] - 0s 2ms/step - loss: 0.8377 - accuracy: 0.6866 - val_loss: 1.4241 - val_accuracy: 0.5648\n",
      "Epoch 56/100\n",
      "22/22 [==============================] - 0s 2ms/step - loss: 0.8539 - accuracy: 0.6809 - val_loss: 1.4001 - val_accuracy: 0.5880\n",
      "Epoch 57/100\n",
      "22/22 [==============================] - 0s 2ms/step - loss: 1.0661 - accuracy: 0.6054 - val_loss: 1.3228 - val_accuracy: 0.5781\n",
      "Epoch 58/100\n",
      "22/22 [==============================] - 0s 2ms/step - loss: 0.9842 - accuracy: 0.6182 - val_loss: 1.3401 - val_accuracy: 0.5880\n",
      "Epoch 59/100\n",
      "22/22 [==============================] - 0s 2ms/step - loss: 0.9270 - accuracy: 0.6538 - val_loss: 1.3876 - val_accuracy: 0.5449\n",
      "Epoch 60/100\n",
      "22/22 [==============================] - 0s 2ms/step - loss: 0.8675 - accuracy: 0.6795 - val_loss: 1.6838 - val_accuracy: 0.4585\n",
      "Epoch 61/100\n",
      "22/22 [==============================] - 0s 2ms/step - loss: 0.9774 - accuracy: 0.6496 - val_loss: 1.3049 - val_accuracy: 0.6146\n",
      "Epoch 62/100\n",
      "22/22 [==============================] - 0s 2ms/step - loss: 0.9513 - accuracy: 0.6396 - val_loss: 1.3630 - val_accuracy: 0.5515\n",
      "Epoch 63/100\n",
      "22/22 [==============================] - 0s 2ms/step - loss: 0.8110 - accuracy: 0.6866 - val_loss: 1.3266 - val_accuracy: 0.5947\n",
      "Epoch 64/100\n",
      "22/22 [==============================] - 0s 2ms/step - loss: 0.8016 - accuracy: 0.7051 - val_loss: 1.5266 - val_accuracy: 0.5216\n",
      "Epoch 65/100\n",
      "22/22 [==============================] - 0s 2ms/step - loss: 0.7737 - accuracy: 0.7165 - val_loss: 1.4166 - val_accuracy: 0.5980\n",
      "Epoch 66/100\n",
      "22/22 [==============================] - 0s 2ms/step - loss: 1.1827 - accuracy: 0.5826 - val_loss: 1.4643 - val_accuracy: 0.5216\n",
      "Epoch 67/100\n",
      "22/22 [==============================] - 0s 2ms/step - loss: 0.8478 - accuracy: 0.6823 - val_loss: 1.3384 - val_accuracy: 0.5814\n",
      "Epoch 68/100\n",
      "22/22 [==============================] - 0s 2ms/step - loss: 0.7963 - accuracy: 0.7094 - val_loss: 1.5428 - val_accuracy: 0.5449\n",
      "Epoch 69/100\n",
      "22/22 [==============================] - 0s 2ms/step - loss: 0.9105 - accuracy: 0.6311 - val_loss: 1.3369 - val_accuracy: 0.6047\n",
      "Epoch 70/100\n",
      "22/22 [==============================] - 0s 2ms/step - loss: 0.8116 - accuracy: 0.6952 - val_loss: 1.3903 - val_accuracy: 0.5748\n",
      "Epoch 71/100\n",
      "22/22 [==============================] - 0s 2ms/step - loss: 0.7754 - accuracy: 0.7151 - val_loss: 1.4471 - val_accuracy: 0.5947\n",
      "Epoch 72/100\n",
      "22/22 [==============================] - 0s 2ms/step - loss: 0.7074 - accuracy: 0.7407 - val_loss: 1.5061 - val_accuracy: 0.5781\n",
      "Epoch 73/100\n",
      "22/22 [==============================] - 0s 2ms/step - loss: 0.7714 - accuracy: 0.7208 - val_loss: 1.7097 - val_accuracy: 0.5349\n",
      "Epoch 74/100\n",
      "22/22 [==============================] - 0s 2ms/step - loss: 0.7920 - accuracy: 0.6980 - val_loss: 1.4867 - val_accuracy: 0.5947\n",
      "Epoch 75/100\n",
      "22/22 [==============================] - 0s 2ms/step - loss: 0.7999 - accuracy: 0.6823 - val_loss: 1.5902 - val_accuracy: 0.5581\n",
      "Epoch 76/100\n",
      "22/22 [==============================] - 0s 2ms/step - loss: 0.7852 - accuracy: 0.7108 - val_loss: 1.6798 - val_accuracy: 0.5249\n",
      "Epoch 77/100\n",
      "22/22 [==============================] - 0s 2ms/step - loss: 0.8963 - accuracy: 0.6567 - val_loss: 1.6408 - val_accuracy: 0.4917\n",
      "Epoch 78/100\n",
      "22/22 [==============================] - 0s 2ms/step - loss: 0.9041 - accuracy: 0.6510 - val_loss: 1.4679 - val_accuracy: 0.5781\n",
      "Epoch 79/100\n",
      "22/22 [==============================] - 0s 2ms/step - loss: 0.7906 - accuracy: 0.7051 - val_loss: 1.5860 - val_accuracy: 0.5615\n",
      "Epoch 80/100\n",
      "22/22 [==============================] - 0s 2ms/step - loss: 0.7619 - accuracy: 0.7066 - val_loss: 1.5768 - val_accuracy: 0.5548\n",
      "Epoch 81/100\n",
      "22/22 [==============================] - 0s 2ms/step - loss: 0.7268 - accuracy: 0.7350 - val_loss: 1.6284 - val_accuracy: 0.5482\n",
      "Epoch 82/100\n",
      "22/22 [==============================] - 0s 2ms/step - loss: 0.8012 - accuracy: 0.7051 - val_loss: 1.5532 - val_accuracy: 0.5548\n",
      "Epoch 83/100\n",
      "22/22 [==============================] - 0s 3ms/step - loss: 0.8650 - accuracy: 0.6795 - val_loss: 1.5153 - val_accuracy: 0.5382\n",
      "Epoch 84/100\n",
      "22/22 [==============================] - 0s 2ms/step - loss: 0.9946 - accuracy: 0.6425 - val_loss: 1.4510 - val_accuracy: 0.5914\n",
      "Epoch 85/100\n",
      "22/22 [==============================] - 0s 2ms/step - loss: 0.9607 - accuracy: 0.6425 - val_loss: 1.4276 - val_accuracy: 0.5382\n",
      "Epoch 86/100\n",
      "22/22 [==============================] - 0s 2ms/step - loss: 0.9563 - accuracy: 0.6325 - val_loss: 1.4402 - val_accuracy: 0.5714\n",
      "Epoch 87/100\n",
      "22/22 [==============================] - 0s 2ms/step - loss: 0.7438 - accuracy: 0.7350 - val_loss: 1.3960 - val_accuracy: 0.5748\n",
      "Epoch 88/100\n",
      "22/22 [==============================] - 0s 2ms/step - loss: 0.7492 - accuracy: 0.7051 - val_loss: 1.6089 - val_accuracy: 0.5781\n",
      "Epoch 89/100\n",
      "22/22 [==============================] - 0s 2ms/step - loss: 0.7483 - accuracy: 0.7151 - val_loss: 1.5033 - val_accuracy: 0.5648\n",
      "Epoch 90/100\n",
      "22/22 [==============================] - 0s 2ms/step - loss: 0.7987 - accuracy: 0.7023 - val_loss: 1.4967 - val_accuracy: 0.6080\n",
      "Epoch 91/100\n",
      "22/22 [==============================] - 0s 2ms/step - loss: 0.8212 - accuracy: 0.6923 - val_loss: 1.4414 - val_accuracy: 0.5781\n",
      "Epoch 92/100\n",
      "22/22 [==============================] - 0s 2ms/step - loss: 0.7496 - accuracy: 0.7222 - val_loss: 1.8333 - val_accuracy: 0.4784\n",
      "Epoch 93/100\n",
      "22/22 [==============================] - 0s 2ms/step - loss: 0.7124 - accuracy: 0.7279 - val_loss: 1.4893 - val_accuracy: 0.5980\n",
      "Epoch 94/100\n",
      "22/22 [==============================] - 0s 2ms/step - loss: 0.6777 - accuracy: 0.7422 - val_loss: 1.5390 - val_accuracy: 0.5814\n",
      "Epoch 95/100\n",
      "22/22 [==============================] - 0s 2ms/step - loss: 0.6396 - accuracy: 0.7578 - val_loss: 1.6089 - val_accuracy: 0.5947\n",
      "Epoch 96/100\n",
      "22/22 [==============================] - 0s 2ms/step - loss: 0.6388 - accuracy: 0.7621 - val_loss: 1.8548 - val_accuracy: 0.5714\n",
      "Epoch 97/100\n",
      "22/22 [==============================] - 0s 2ms/step - loss: 0.7146 - accuracy: 0.7279 - val_loss: 1.6634 - val_accuracy: 0.5681\n",
      "Epoch 98/100\n",
      "22/22 [==============================] - 0s 2ms/step - loss: 0.7371 - accuracy: 0.7279 - val_loss: 1.5814 - val_accuracy: 0.5880\n",
      "Epoch 99/100\n",
      "22/22 [==============================] - 0s 2ms/step - loss: 0.8389 - accuracy: 0.6980 - val_loss: 2.3071 - val_accuracy: 0.3355\n",
      "Epoch 100/100\n",
      "22/22 [==============================] - 0s 2ms/step - loss: 1.8135 - accuracy: 0.4188 - val_loss: 1.7336 - val_accuracy: 0.4817\n"
     ]
    },
    {
     "data": {
      "text/plain": "<keras.callbacks.History at 0x1eadaba9f70>"
     },
     "execution_count": 6,
     "metadata": {},
     "output_type": "execute_result"
    }
   ],
   "source": [
    "#compiling the data\n",
    "dnn_model.compile(loss='sparse_categorical_crossentropy', optimizer=keras.optimizers.Adam(lr=0.003), metrics=['accuracy'])\n",
    "dnn_model.fit(X_train_scaled, y_train, epochs=100, batch_size=32, validation_split=0.3)"
   ],
   "metadata": {
    "collapsed": false,
    "pycharm": {
     "name": "#%%\n"
    }
   }
  },
  {
   "cell_type": "code",
   "execution_count": 7,
   "outputs": [
    {
     "name": "stdout",
     "output_type": "stream",
     "text": [
      "14/14 [==============================] - 0s 878us/step - loss: 2.0441 - accuracy: 0.4478\n"
     ]
    }
   ],
   "source": [
    "#determine the dnn score\n",
    "dnn_score = dnn_model.evaluate(X_test_scaled, y_test)"
   ],
   "metadata": {
    "collapsed": false,
    "pycharm": {
     "name": "#%%\n"
    }
   }
  },
  {
   "cell_type": "code",
   "execution_count": 8,
   "outputs": [],
   "source": [
    "#cnn model definition\n",
    "cnn_model = keras.Sequential([\n",
    "    keras.layers.Conv2D(16, (3,3), activation='relu', input_shape=(124, 94, 1)),\n",
    "    keras.layers.MaxPooling2D((2, 2)),\n",
    "    keras.layers.Flatten(),\n",
    "    keras.layers.Dense(len(set(y_train)), activation='softmax')\n",
    "])"
   ],
   "metadata": {
    "collapsed": false,
    "pycharm": {
     "name": "#%%\n"
    }
   }
  },
  {
   "cell_type": "code",
   "execution_count": 9,
   "outputs": [],
   "source": [
    "cnn_model.compile(loss='sparse_categorical_crossentropy', optimizer=keras.optimizers.Adam(lr=0.003), metrics=['accuracy'])"
   ],
   "metadata": {
    "collapsed": false,
    "pycharm": {
     "name": "#%%\n"
    }
   }
  },
  {
   "cell_type": "code",
   "execution_count": 10,
   "outputs": [],
   "source": [
    "#reshaping the data\n",
    "X_train_reshape = X_train_scaled.reshape(X_train.shape[0], 62, 47, 1)\n",
    "X_test_reshape = X_test_scaled.reshape(X_test.shape[0], 62, 47, 1)\n",
    "X_train_reshape = tf.image.resize(X_train_reshape, (124, 94))\n",
    "X_test_reshape = tf.image.resize(X_test_reshape, (124, 94))"
   ],
   "metadata": {
    "collapsed": false,
    "pycharm": {
     "name": "#%%\n"
    }
   }
  },
  {
   "cell_type": "code",
   "execution_count": 11,
   "outputs": [
    {
     "name": "stdout",
     "output_type": "stream",
     "text": [
      "Epoch 1/100\n",
      "22/22 [==============================] - 1s 35ms/step - loss: 2.0571 - accuracy: 0.3476 - val_loss: 1.7555 - val_accuracy: 0.4120\n",
      "Epoch 2/100\n",
      "22/22 [==============================] - 1s 34ms/step - loss: 1.5730 - accuracy: 0.4573 - val_loss: 1.3839 - val_accuracy: 0.5150\n",
      "Epoch 3/100\n",
      "22/22 [==============================] - 1s 34ms/step - loss: 1.0833 - accuracy: 0.6695 - val_loss: 1.0800 - val_accuracy: 0.6777\n",
      "Epoch 4/100\n",
      "22/22 [==============================] - 1s 32ms/step - loss: 0.6572 - accuracy: 0.8291 - val_loss: 0.9861 - val_accuracy: 0.6944\n",
      "Epoch 5/100\n",
      "22/22 [==============================] - 1s 34ms/step - loss: 0.4459 - accuracy: 0.9003 - val_loss: 0.7619 - val_accuracy: 0.7342\n",
      "Epoch 6/100\n",
      "22/22 [==============================] - 1s 32ms/step - loss: 0.3365 - accuracy: 0.9145 - val_loss: 0.8384 - val_accuracy: 0.7409\n",
      "Epoch 7/100\n",
      "22/22 [==============================] - 1s 32ms/step - loss: 0.2440 - accuracy: 0.9587 - val_loss: 0.6815 - val_accuracy: 0.7741\n",
      "Epoch 8/100\n",
      "22/22 [==============================] - 1s 32ms/step - loss: 0.1582 - accuracy: 0.9843 - val_loss: 0.6511 - val_accuracy: 0.8040\n",
      "Epoch 9/100\n",
      "22/22 [==============================] - 1s 32ms/step - loss: 0.1202 - accuracy: 0.9858 - val_loss: 0.6336 - val_accuracy: 0.8040\n",
      "Epoch 10/100\n",
      "22/22 [==============================] - 1s 32ms/step - loss: 0.0883 - accuracy: 0.9986 - val_loss: 0.6081 - val_accuracy: 0.8007\n",
      "Epoch 11/100\n",
      "22/22 [==============================] - 1s 31ms/step - loss: 0.0661 - accuracy: 0.9986 - val_loss: 0.6738 - val_accuracy: 0.7841\n",
      "Epoch 12/100\n",
      "22/22 [==============================] - 1s 31ms/step - loss: 0.0548 - accuracy: 1.0000 - val_loss: 0.6222 - val_accuracy: 0.7973\n",
      "Epoch 13/100\n",
      "22/22 [==============================] - 1s 32ms/step - loss: 0.0399 - accuracy: 1.0000 - val_loss: 0.6162 - val_accuracy: 0.8073\n",
      "Epoch 14/100\n",
      "22/22 [==============================] - 1s 31ms/step - loss: 0.0313 - accuracy: 1.0000 - val_loss: 0.5990 - val_accuracy: 0.8173\n",
      "Epoch 15/100\n",
      "22/22 [==============================] - 1s 32ms/step - loss: 0.0286 - accuracy: 1.0000 - val_loss: 0.6407 - val_accuracy: 0.8007\n",
      "Epoch 16/100\n",
      "22/22 [==============================] - 1s 32ms/step - loss: 0.0246 - accuracy: 1.0000 - val_loss: 0.6237 - val_accuracy: 0.8106\n",
      "Epoch 17/100\n",
      "22/22 [==============================] - 1s 32ms/step - loss: 0.0199 - accuracy: 1.0000 - val_loss: 0.6306 - val_accuracy: 0.8106\n",
      "Epoch 18/100\n",
      "22/22 [==============================] - 1s 33ms/step - loss: 0.0181 - accuracy: 1.0000 - val_loss: 0.6292 - val_accuracy: 0.8106\n",
      "Epoch 19/100\n",
      "22/22 [==============================] - 1s 31ms/step - loss: 0.0180 - accuracy: 1.0000 - val_loss: 0.6716 - val_accuracy: 0.7940\n",
      "Epoch 20/100\n",
      "22/22 [==============================] - 1s 31ms/step - loss: 0.0142 - accuracy: 1.0000 - val_loss: 0.6268 - val_accuracy: 0.8173\n",
      "Epoch 21/100\n",
      "22/22 [==============================] - 1s 32ms/step - loss: 0.0126 - accuracy: 1.0000 - val_loss: 0.6394 - val_accuracy: 0.8073\n",
      "Epoch 22/100\n",
      "22/22 [==============================] - 1s 32ms/step - loss: 0.0112 - accuracy: 1.0000 - val_loss: 0.6604 - val_accuracy: 0.7841\n",
      "Epoch 23/100\n",
      "22/22 [==============================] - 1s 32ms/step - loss: 0.0107 - accuracy: 1.0000 - val_loss: 0.6707 - val_accuracy: 0.8040\n",
      "Epoch 24/100\n",
      "22/22 [==============================] - 1s 31ms/step - loss: 0.0095 - accuracy: 1.0000 - val_loss: 0.6629 - val_accuracy: 0.8140\n",
      "Epoch 25/100\n",
      "22/22 [==============================] - 1s 31ms/step - loss: 0.0087 - accuracy: 1.0000 - val_loss: 0.6687 - val_accuracy: 0.7973\n",
      "Epoch 26/100\n",
      "22/22 [==============================] - 1s 32ms/step - loss: 0.0080 - accuracy: 1.0000 - val_loss: 0.6636 - val_accuracy: 0.8073\n",
      "Epoch 27/100\n",
      "22/22 [==============================] - 1s 32ms/step - loss: 0.0074 - accuracy: 1.0000 - val_loss: 0.6520 - val_accuracy: 0.8106\n",
      "Epoch 28/100\n",
      "22/22 [==============================] - 1s 31ms/step - loss: 0.0069 - accuracy: 1.0000 - val_loss: 0.6736 - val_accuracy: 0.7940\n",
      "Epoch 29/100\n",
      "22/22 [==============================] - 1s 33ms/step - loss: 0.0065 - accuracy: 1.0000 - val_loss: 0.6761 - val_accuracy: 0.8073\n",
      "Epoch 30/100\n",
      "22/22 [==============================] - 1s 34ms/step - loss: 0.0064 - accuracy: 1.0000 - val_loss: 0.6579 - val_accuracy: 0.8106\n",
      "Epoch 31/100\n",
      "22/22 [==============================] - 1s 32ms/step - loss: 0.0058 - accuracy: 1.0000 - val_loss: 0.7093 - val_accuracy: 0.8007\n",
      "Epoch 32/100\n",
      "22/22 [==============================] - 1s 33ms/step - loss: 0.0054 - accuracy: 1.0000 - val_loss: 0.6654 - val_accuracy: 0.8140\n",
      "Epoch 33/100\n",
      "22/22 [==============================] - 1s 31ms/step - loss: 0.0049 - accuracy: 1.0000 - val_loss: 0.6752 - val_accuracy: 0.8040\n",
      "Epoch 34/100\n",
      "22/22 [==============================] - 1s 32ms/step - loss: 0.0047 - accuracy: 1.0000 - val_loss: 0.6909 - val_accuracy: 0.7973\n",
      "Epoch 35/100\n",
      "22/22 [==============================] - 1s 31ms/step - loss: 0.0044 - accuracy: 1.0000 - val_loss: 0.6581 - val_accuracy: 0.8206\n",
      "Epoch 36/100\n",
      "22/22 [==============================] - 1s 31ms/step - loss: 0.0042 - accuracy: 1.0000 - val_loss: 0.6841 - val_accuracy: 0.8040\n",
      "Epoch 37/100\n",
      "22/22 [==============================] - 1s 31ms/step - loss: 0.0039 - accuracy: 1.0000 - val_loss: 0.6907 - val_accuracy: 0.8007\n",
      "Epoch 38/100\n",
      "22/22 [==============================] - 1s 32ms/step - loss: 0.0037 - accuracy: 1.0000 - val_loss: 0.6721 - val_accuracy: 0.8140\n",
      "Epoch 39/100\n",
      "22/22 [==============================] - 1s 31ms/step - loss: 0.0036 - accuracy: 1.0000 - val_loss: 0.6881 - val_accuracy: 0.8040\n",
      "Epoch 40/100\n",
      "22/22 [==============================] - 1s 32ms/step - loss: 0.0033 - accuracy: 1.0000 - val_loss: 0.7096 - val_accuracy: 0.8007\n",
      "Epoch 41/100\n",
      "22/22 [==============================] - 1s 32ms/step - loss: 0.0032 - accuracy: 1.0000 - val_loss: 0.7132 - val_accuracy: 0.8040\n",
      "Epoch 42/100\n",
      "22/22 [==============================] - 1s 31ms/step - loss: 0.0031 - accuracy: 1.0000 - val_loss: 0.7198 - val_accuracy: 0.8040\n",
      "Epoch 43/100\n",
      "22/22 [==============================] - 1s 31ms/step - loss: 0.0029 - accuracy: 1.0000 - val_loss: 0.7222 - val_accuracy: 0.8007\n",
      "Epoch 44/100\n",
      "22/22 [==============================] - 1s 31ms/step - loss: 0.0028 - accuracy: 1.0000 - val_loss: 0.7128 - val_accuracy: 0.8073\n",
      "Epoch 45/100\n",
      "22/22 [==============================] - 1s 31ms/step - loss: 0.0026 - accuracy: 1.0000 - val_loss: 0.7043 - val_accuracy: 0.8073\n",
      "Epoch 46/100\n",
      "22/22 [==============================] - 1s 32ms/step - loss: 0.0026 - accuracy: 1.0000 - val_loss: 0.7434 - val_accuracy: 0.7973\n",
      "Epoch 47/100\n",
      "22/22 [==============================] - 1s 32ms/step - loss: 0.0024 - accuracy: 1.0000 - val_loss: 0.7161 - val_accuracy: 0.7973\n",
      "Epoch 48/100\n",
      "22/22 [==============================] - 1s 32ms/step - loss: 0.0023 - accuracy: 1.0000 - val_loss: 0.7413 - val_accuracy: 0.7973\n",
      "Epoch 49/100\n",
      "22/22 [==============================] - 1s 34ms/step - loss: 0.0024 - accuracy: 1.0000 - val_loss: 0.7431 - val_accuracy: 0.8040\n",
      "Epoch 50/100\n",
      "22/22 [==============================] - 1s 32ms/step - loss: 0.0022 - accuracy: 1.0000 - val_loss: 0.7098 - val_accuracy: 0.8173\n",
      "Epoch 51/100\n",
      "22/22 [==============================] - 1s 31ms/step - loss: 0.0020 - accuracy: 1.0000 - val_loss: 0.7306 - val_accuracy: 0.8073\n",
      "Epoch 52/100\n",
      "22/22 [==============================] - 1s 35ms/step - loss: 0.0019 - accuracy: 1.0000 - val_loss: 0.7296 - val_accuracy: 0.8073\n",
      "Epoch 53/100\n",
      "22/22 [==============================] - 1s 34ms/step - loss: 0.0019 - accuracy: 1.0000 - val_loss: 0.7144 - val_accuracy: 0.8106\n",
      "Epoch 54/100\n",
      "22/22 [==============================] - 1s 33ms/step - loss: 0.0018 - accuracy: 1.0000 - val_loss: 0.7267 - val_accuracy: 0.8106\n",
      "Epoch 55/100\n",
      "22/22 [==============================] - 1s 32ms/step - loss: 0.0018 - accuracy: 1.0000 - val_loss: 0.7627 - val_accuracy: 0.8040\n",
      "Epoch 56/100\n",
      "22/22 [==============================] - 1s 31ms/step - loss: 0.0017 - accuracy: 1.0000 - val_loss: 0.7224 - val_accuracy: 0.8106\n",
      "Epoch 57/100\n",
      "22/22 [==============================] - 1s 32ms/step - loss: 0.0016 - accuracy: 1.0000 - val_loss: 0.7268 - val_accuracy: 0.8140\n",
      "Epoch 58/100\n",
      "22/22 [==============================] - 1s 31ms/step - loss: 0.0017 - accuracy: 1.0000 - val_loss: 0.7166 - val_accuracy: 0.8206\n",
      "Epoch 59/100\n",
      "22/22 [==============================] - 1s 32ms/step - loss: 0.0015 - accuracy: 1.0000 - val_loss: 0.7333 - val_accuracy: 0.8106\n",
      "Epoch 60/100\n",
      "22/22 [==============================] - 1s 33ms/step - loss: 0.0014 - accuracy: 1.0000 - val_loss: 0.7238 - val_accuracy: 0.8173\n",
      "Epoch 61/100\n",
      "22/22 [==============================] - 1s 35ms/step - loss: 0.0014 - accuracy: 1.0000 - val_loss: 0.7380 - val_accuracy: 0.8106\n",
      "Epoch 62/100\n",
      "22/22 [==============================] - 1s 32ms/step - loss: 0.0014 - accuracy: 1.0000 - val_loss: 0.7412 - val_accuracy: 0.8140\n",
      "Epoch 63/100\n",
      "22/22 [==============================] - 1s 32ms/step - loss: 0.0013 - accuracy: 1.0000 - val_loss: 0.7744 - val_accuracy: 0.7973\n",
      "Epoch 64/100\n",
      "22/22 [==============================] - 1s 31ms/step - loss: 0.0013 - accuracy: 1.0000 - val_loss: 0.7477 - val_accuracy: 0.8140\n",
      "Epoch 65/100\n",
      "22/22 [==============================] - 1s 32ms/step - loss: 0.0013 - accuracy: 1.0000 - val_loss: 0.7613 - val_accuracy: 0.8040\n",
      "Epoch 66/100\n",
      "22/22 [==============================] - 1s 31ms/step - loss: 0.0012 - accuracy: 1.0000 - val_loss: 0.7749 - val_accuracy: 0.8040\n",
      "Epoch 67/100\n",
      "22/22 [==============================] - 1s 31ms/step - loss: 0.0012 - accuracy: 1.0000 - val_loss: 0.7342 - val_accuracy: 0.8173\n",
      "Epoch 68/100\n",
      "22/22 [==============================] - 1s 31ms/step - loss: 0.0011 - accuracy: 1.0000 - val_loss: 0.7549 - val_accuracy: 0.8106\n",
      "Epoch 69/100\n",
      "22/22 [==============================] - 1s 31ms/step - loss: 0.0011 - accuracy: 1.0000 - val_loss: 0.7538 - val_accuracy: 0.8140\n",
      "Epoch 70/100\n",
      "22/22 [==============================] - 1s 33ms/step - loss: 0.0010 - accuracy: 1.0000 - val_loss: 0.7630 - val_accuracy: 0.8106\n",
      "Epoch 71/100\n",
      "22/22 [==============================] - 1s 33ms/step - loss: 0.0010 - accuracy: 1.0000 - val_loss: 0.7752 - val_accuracy: 0.8007\n",
      "Epoch 72/100\n",
      "22/22 [==============================] - 1s 33ms/step - loss: 9.9388e-04 - accuracy: 1.0000 - val_loss: 0.7592 - val_accuracy: 0.8140\n",
      "Epoch 73/100\n",
      "22/22 [==============================] - 1s 31ms/step - loss: 9.9009e-04 - accuracy: 1.0000 - val_loss: 0.7616 - val_accuracy: 0.8106\n",
      "Epoch 74/100\n",
      "22/22 [==============================] - 1s 31ms/step - loss: 9.4843e-04 - accuracy: 1.0000 - val_loss: 0.7758 - val_accuracy: 0.8040\n",
      "Epoch 75/100\n",
      "22/22 [==============================] - 1s 32ms/step - loss: 8.9737e-04 - accuracy: 1.0000 - val_loss: 0.7701 - val_accuracy: 0.8073\n",
      "Epoch 76/100\n",
      "22/22 [==============================] - 1s 33ms/step - loss: 8.7899e-04 - accuracy: 1.0000 - val_loss: 0.7631 - val_accuracy: 0.8106\n",
      "Epoch 77/100\n",
      "22/22 [==============================] - 1s 31ms/step - loss: 8.5767e-04 - accuracy: 1.0000 - val_loss: 0.7654 - val_accuracy: 0.8106\n",
      "Epoch 78/100\n",
      "22/22 [==============================] - 1s 31ms/step - loss: 8.3088e-04 - accuracy: 1.0000 - val_loss: 0.7688 - val_accuracy: 0.8106\n",
      "Epoch 79/100\n",
      "22/22 [==============================] - 1s 31ms/step - loss: 8.1844e-04 - accuracy: 1.0000 - val_loss: 0.7890 - val_accuracy: 0.8040\n",
      "Epoch 80/100\n",
      "22/22 [==============================] - 1s 31ms/step - loss: 7.9416e-04 - accuracy: 1.0000 - val_loss: 0.7817 - val_accuracy: 0.8106\n",
      "Epoch 81/100\n",
      "22/22 [==============================] - 1s 32ms/step - loss: 7.8418e-04 - accuracy: 1.0000 - val_loss: 0.7594 - val_accuracy: 0.8140\n",
      "Epoch 82/100\n",
      "22/22 [==============================] - 1s 31ms/step - loss: 7.4351e-04 - accuracy: 1.0000 - val_loss: 0.7999 - val_accuracy: 0.8040\n",
      "Epoch 83/100\n",
      "22/22 [==============================] - 1s 31ms/step - loss: 7.3333e-04 - accuracy: 1.0000 - val_loss: 0.7705 - val_accuracy: 0.8140\n",
      "Epoch 84/100\n",
      "22/22 [==============================] - 1s 31ms/step - loss: 7.2689e-04 - accuracy: 1.0000 - val_loss: 0.7827 - val_accuracy: 0.8073\n",
      "Epoch 85/100\n",
      "22/22 [==============================] - 1s 31ms/step - loss: 6.9679e-04 - accuracy: 1.0000 - val_loss: 0.7833 - val_accuracy: 0.8106\n",
      "Epoch 86/100\n",
      "22/22 [==============================] - 1s 32ms/step - loss: 6.9248e-04 - accuracy: 1.0000 - val_loss: 0.7764 - val_accuracy: 0.8140\n",
      "Epoch 87/100\n",
      "22/22 [==============================] - 1s 31ms/step - loss: 6.5588e-04 - accuracy: 1.0000 - val_loss: 0.7887 - val_accuracy: 0.8073\n",
      "Epoch 88/100\n",
      "22/22 [==============================] - 1s 31ms/step - loss: 6.5003e-04 - accuracy: 1.0000 - val_loss: 0.7888 - val_accuracy: 0.8106\n",
      "Epoch 89/100\n",
      "22/22 [==============================] - 1s 32ms/step - loss: 6.3118e-04 - accuracy: 1.0000 - val_loss: 0.7916 - val_accuracy: 0.8106\n",
      "Epoch 90/100\n",
      "22/22 [==============================] - 1s 32ms/step - loss: 6.2199e-04 - accuracy: 1.0000 - val_loss: 0.7875 - val_accuracy: 0.8140\n",
      "Epoch 91/100\n",
      "22/22 [==============================] - 1s 31ms/step - loss: 6.0419e-04 - accuracy: 1.0000 - val_loss: 0.8028 - val_accuracy: 0.8073\n",
      "Epoch 92/100\n",
      "22/22 [==============================] - 1s 32ms/step - loss: 5.9111e-04 - accuracy: 1.0000 - val_loss: 0.7995 - val_accuracy: 0.8106\n",
      "Epoch 93/100\n",
      "22/22 [==============================] - 1s 31ms/step - loss: 5.8142e-04 - accuracy: 1.0000 - val_loss: 0.7914 - val_accuracy: 0.8106\n",
      "Epoch 94/100\n",
      "22/22 [==============================] - 1s 31ms/step - loss: 5.6026e-04 - accuracy: 1.0000 - val_loss: 0.8123 - val_accuracy: 0.8007\n",
      "Epoch 95/100\n",
      "22/22 [==============================] - 1s 33ms/step - loss: 5.6112e-04 - accuracy: 1.0000 - val_loss: 0.8073 - val_accuracy: 0.8073\n",
      "Epoch 96/100\n",
      "22/22 [==============================] - 1s 32ms/step - loss: 5.4130e-04 - accuracy: 1.0000 - val_loss: 0.8143 - val_accuracy: 0.8073\n",
      "Epoch 97/100\n",
      "22/22 [==============================] - 1s 31ms/step - loss: 5.1717e-04 - accuracy: 1.0000 - val_loss: 0.8103 - val_accuracy: 0.8040\n",
      "Epoch 98/100\n",
      "22/22 [==============================] - 1s 32ms/step - loss: 5.1430e-04 - accuracy: 1.0000 - val_loss: 0.8081 - val_accuracy: 0.8073\n",
      "Epoch 99/100\n",
      "22/22 [==============================] - 1s 32ms/step - loss: 4.9239e-04 - accuracy: 1.0000 - val_loss: 0.8122 - val_accuracy: 0.8073\n",
      "Epoch 100/100\n",
      "22/22 [==============================] - 1s 32ms/step - loss: 4.8484e-04 - accuracy: 1.0000 - val_loss: 0.8035 - val_accuracy: 0.8106\n"
     ]
    },
    {
     "data": {
      "text/plain": "<keras.callbacks.History at 0x1eade089d30>"
     },
     "execution_count": 11,
     "metadata": {},
     "output_type": "execute_result"
    }
   ],
   "source": [
    "cnn_model.fit(X_train_reshape, y_train, epochs=100, validation_split=0.3)"
   ],
   "metadata": {
    "collapsed": false,
    "pycharm": {
     "name": "#%%\n"
    }
   }
  },
  {
   "cell_type": "code",
   "execution_count": 12,
   "outputs": [
    {
     "name": "stdout",
     "output_type": "stream",
     "text": [
      "14/14 [==============================] - 0s 9ms/step - loss: 0.8335 - accuracy: 0.8190\n"
     ]
    }
   ],
   "source": [
    "#getting cnn score\n",
    "cnn_score = cnn_model.evaluate(X_test_reshape, y_test)"
   ],
   "metadata": {
    "collapsed": false,
    "pycharm": {
     "name": "#%%\n"
    }
   }
  },
  {
   "cell_type": "code",
   "execution_count": 13,
   "outputs": [
    {
     "name": "stdout",
     "output_type": "stream",
     "text": [
      "dnn accuracy is 0.4477958381175995\n",
      "cnn accuracy is 0.8190255165100098\n"
     ]
    }
   ],
   "source": [
    "#printing the cnn and dnn scores\n",
    "print(f'dnn accuracy is {dnn_score[1]}')\n",
    "print(f'cnn accuracy is {cnn_score[1]}')"
   ],
   "metadata": {
    "collapsed": false,
    "pycharm": {
     "name": "#%%\n"
    }
   }
  },
  {
   "cell_type": "markdown",
   "source": [
    "1. For CNN, when the learning rate is increased, the accuracy drops. When the filter is increased it also decreases the accuracy.\n",
    "2. Decreasing the hidden nodes in DNN significantly reduces the accuracy of the model"
   ],
   "metadata": {
    "collapsed": false,
    "pycharm": {
     "name": "#%% md\n"
    }
   }
  }
 ],
 "metadata": {
  "kernelspec": {
   "display_name": "Python 3",
   "language": "python",
   "name": "python3"
  },
  "language_info": {
   "codemirror_mode": {
    "name": "ipython",
    "version": 2
   },
   "file_extension": ".py",
   "mimetype": "text/x-python",
   "name": "python",
   "nbconvert_exporter": "python",
   "pygments_lexer": "ipython2",
   "version": "2.7.6"
  }
 },
 "nbformat": 4,
 "nbformat_minor": 0
}