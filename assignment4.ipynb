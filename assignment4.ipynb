{
 "cells": [
  {
   "cell_type": "code",
   "execution_count": 15,
   "metadata": {
    "collapsed": true,
    "pycharm": {
     "name": "#%%\n"
    }
   },
   "outputs": [],
   "source": [
    "from sklearn.datasets import load_breast_cancer\n",
    "from sklearn.model_selection import train_test_split, LeaveOneOut\n",
    "from sklearn.preprocessing import MinMaxScaler\n",
    "from sklearn.metrics import accuracy_score\n",
    "from sklearn.metrics.pairwise import cosine_similarity\n",
    "import numpy as np\n",
    "\n",
    "from sklearn.ensemble import BaggingClassifier\n",
    "from sklearn.datasets import make_classification\n",
    "from sklearn.tree import DecisionTreeClassifier\n",
    "from sklearn.model_selection import GridSearchCV"
   ]
  },
  {
   "cell_type": "code",
   "execution_count": 16,
   "outputs": [],
   "source": [
    "bc = load_breast_cancer()\n",
    "\n",
    "#creating X and Y data\n",
    "X = bc.data\n",
    "Y = bc.target"
   ],
   "metadata": {
    "collapsed": false,
    "pycharm": {
     "name": "#%%\n"
    }
   }
  },
  {
   "cell_type": "code",
   "execution_count": 17,
   "outputs": [],
   "source": [
    "#normalizing values to be between 0 and 1\n",
    "mms = MinMaxScaler()\n",
    "X = mms.fit_transform(X)"
   ],
   "metadata": {
    "collapsed": false,
    "pycharm": {
     "name": "#%%\n"
    }
   }
  },
  {
   "cell_type": "code",
   "execution_count": 18,
   "outputs": [
    {
     "name": "stdout",
     "output_type": "stream",
     "text": [
      "Result of accuracy_score is 0.6274165202108963\n",
      "Result of average of acc is 0.6274165202108963\n"
     ]
    }
   ],
   "source": [
    "#main for loop\n",
    "LOO = LeaveOneOut()\n",
    "acc = []\n",
    "\n",
    "#defining the stuff\n",
    "label1 = 0\n",
    "label2 = 1\n",
    "pred_labels = []\n",
    "\n",
    "for train_index, test_index in LOO.split(X):\n",
    "    X_train, X_test = X[train_index], X[test_index]\n",
    "    Y_train, Y_test = Y[train_index], Y[test_index]\n",
    "\n",
    "    #X_train and Y_train split based on labels\n",
    "    C1 = X_train[Y_train == label1]\n",
    "    C2 = X_train[Y_train == label2]\n",
    "\n",
    "    #average of feature vectors in each class\n",
    "    C1avg = sum(C1) / len(C1)\n",
    "    C2avg = sum(C2) / len(C2)\n",
    "\n",
    "    #reshaping C1avg and C2avg\n",
    "    C1avg = np.reshape(C1avg, (-1, 1))\n",
    "    C2avg = np.reshape(C2avg, (-1, 1))\n",
    "\n",
    "    #compute cosine similarity\n",
    "    C1sim = cosine_similarity(C1avg)\n",
    "    C2sim = cosine_similarity(C2avg)\n",
    "\n",
    "    # find the minimum angle and obtain predicted label, denoted as Y_pred\n",
    "    if C1sim.all() > C2sim.all():\n",
    "        Y_pred = label1\n",
    "    else:\n",
    "        Y_pred = label2\n",
    "\n",
    "    # if predicted correctly, append 1, otherwise 0\n",
    "    if Y_pred == Y_test:\n",
    "        acc.append(1)\n",
    "    else:\n",
    "        acc.append(0)\n",
    "    pred_labels.append(Y_pred)\n",
    "\n",
    "#accuracy scores\n",
    "ascore = accuracy_score(Y, pred_labels)\n",
    "print(f'Result of accuracy_score is {ascore}')\n",
    "\n",
    "acc_mean = sum(acc) / len(acc)\n",
    "print(f'Result of average of acc is {acc_mean}')"
   ],
   "metadata": {
    "collapsed": false,
    "pycharm": {
     "name": "#%%\n"
    }
   }
  },
  {
   "cell_type": "code",
   "execution_count": 23,
   "outputs": [
    {
     "name": "stdout",
     "output_type": "stream",
     "text": [
      "0.9473684210526315\n"
     ]
    }
   ],
   "source": [
    "#split with a 70/30 split\n",
    "X_train, X_test, Y_train, Y_test = train_test_split(X, Y, test_size=0.3)\n",
    "\n",
    "#defining the decision tree classifier\n",
    "DTC = DecisionTreeClassifier()\n",
    "\n",
    "#defining the bagging classifier with the DTC as the estimator\n",
    "bag = BaggingClassifier(estimator=DTC)\n",
    "\n",
    "#performing the frid search with the bagging classifier with an n_estimator range from 1 to 100 and fitting it to the training size\n",
    "gridsearch = GridSearchCV(bag, {'n_estimators': range(1, 101)}).fit(X_train, Y_train)\n",
    "\n",
    "#setting the best estimator to the best parameters of the grid search\n",
    "best_est = gridsearch.best_params_['n_estimators']\n",
    "\n",
    "#final bagging classifier with the DTC and the n_estimators set to the best estimators, then fitting to training size\n",
    "bag = BaggingClassifier(estimator=DTC, n_estimators=best_est).fit(X_train, Y_train)\n",
    "\n",
    "#setting the score of the final bag with the tests\n",
    "bag_acc = bag.score(X_test, Y_test)\n",
    "\n",
    "print(bag_acc)"
   ],
   "metadata": {
    "collapsed": false,
    "pycharm": {
     "name": "#%%\n"
    }
   }
  },
  {
   "cell_type": "code",
   "execution_count": null,
   "outputs": [],
   "source": [],
   "metadata": {
    "collapsed": false,
    "pycharm": {
     "name": "#%%\n"
    }
   }
  }
 ],
 "metadata": {
  "kernelspec": {
   "display_name": "Python 3",
   "language": "python",
   "name": "python3"
  },
  "language_info": {
   "codemirror_mode": {
    "name": "ipython",
    "version": 2
   },
   "file_extension": ".py",
   "mimetype": "text/x-python",
   "name": "python",
   "nbconvert_exporter": "python",
   "pygments_lexer": "ipython2",
   "version": "2.7.6"
  }
 },
 "nbformat": 4,
 "nbformat_minor": 0
}